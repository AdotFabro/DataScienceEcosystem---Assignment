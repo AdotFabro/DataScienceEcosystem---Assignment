{
 "cells": [
  {
   "cell_type": "markdown",
   "id": "062fa063-a2f8-4561-9722-8a767806f936",
   "metadata": {},
   "source": [
    "<h1>Data Science Tools and Ecosystem<h1>"
   ]
  },
  {
   "cell_type": "markdown",
   "id": "b3d20fc7",
   "metadata": {},
   "source": [
    "In this notebook, Data Science Tools and Ecosystem are summarized."
   ]
  },
  {
   "cell_type": "markdown",
   "id": "afa1a6fd-d5be-4340-a068-c91167dfd8de",
   "metadata": {},
   "source": [
    "Some of the popular languages that Data Scientists use are:\n",
    "1. Python\n",
    "2. RStudio\n",
    "3. SQL"
   ]
  },
  {
   "cell_type": "markdown",
   "id": "22efcbdc-ba06-4cbd-91dc-ea4f3ae55c3c",
   "metadata": {},
   "source": [
    "Some of the commonly used libraries used by Data Scientists include:\n",
    "1. Pandas\n",
    "2. Numpy\n",
    "3. Matplotlib\n",
    "4. seaborn\n",
    "5. scikit\n",
    "6. Keras\n",
    "7. Tensorflow\n",
    "8. Pytorch\n",
    "9. ggplot"
   ]
  },
  {
   "cell_type": "markdown",
   "id": "e8f257f6-e631-4280-9a99-64ae6a108bdd",
   "metadata": {},
   "source": [
    "| Data Science Tools |\n",
    "|:--------:|\n",
    "|  PostGreSQL   |\n",
    "|  Hadoop   |\n",
    "|  Tableau   |"
   ]
  },
  {
   "cell_type": "markdown",
   "id": "7133ba31-4693-452d-8ac1-a3aa57e71677",
   "metadata": {},
   "source": [
    "<h3>Below are a few examples of evaluating arithmetic expressions in Python<h3>"
   ]
  },
  {
   "cell_type": "code",
   "execution_count": 7,
   "id": "4c09a1bb-bfd5-421c-9aa1-268b42db324a",
   "metadata": {},
   "outputs": [
    {
     "data": {
      "text/plain": [
       "17"
      ]
     },
     "execution_count": 7,
     "metadata": {},
     "output_type": "execute_result"
    }
   ],
   "source": [
    "#Below are a few examples of evaluating arithmetic expressions in Python\n",
    "(3*4)+5"
   ]
  },
  {
   "cell_type": "code",
   "execution_count": 8,
   "id": "5af8f56b-7993-418a-a3e4-856bbc961f50",
   "metadata": {},
   "outputs": [
    {
     "data": {
      "text/plain": [
       "3"
      ]
     },
     "execution_count": 8,
     "metadata": {},
     "output_type": "execute_result"
    }
   ],
   "source": [
    "#This will convert 200 minutes to hours by diving by 60\n",
    "\n",
    "def min_hours(x):\n",
    "    return x//60\n",
    "\n",
    "min_hours(200)"
   ]
  },
  {
   "cell_type": "markdown",
   "id": "72b1bd57-a107-446d-87e2-78a04c0dae66",
   "metadata": {},
   "source": [
    "Objectives:\n",
    "* Tools used by Data Scientist\n",
    "* Programming Languages\n",
    "* Popular libraries\n",
    "* Overview of Jupyter, Rstudio"
   ]
  },
  {
   "cell_type": "markdown",
   "id": "c76a7761-0a0a-4392-8abb-bcd387e1c051",
   "metadata": {},
   "source": [
    "<p><h2>Author</h2><br>\n",
    "Armando Fabro</p>"
   ]
  },
  {
   "cell_type": "code",
   "execution_count": null,
   "id": "6520bcfe-652f-4d68-8117-b585863b7da6",
   "metadata": {},
   "outputs": [],
   "source": []
  }
 ],
 "metadata": {
  "kernelspec": {
   "display_name": "Python 3 (ipykernel)",
   "language": "python",
   "name": "python3"
  },
  "language_info": {
   "codemirror_mode": {
    "name": "ipython",
    "version": 3
   },
   "file_extension": ".py",
   "mimetype": "text/x-python",
   "name": "python",
   "nbconvert_exporter": "python",
   "pygments_lexer": "ipython3",
   "version": "3.11.5"
  }
 },
 "nbformat": 4,
 "nbformat_minor": 5
}
